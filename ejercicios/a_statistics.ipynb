{
 "cells": [
  {
   "cell_type": "markdown",
   "id": "1ad28692",
   "metadata": {},
   "source": [
    "<a target=\"_blank\" href=\"https://colab.research.google.com/github/sonder-art/automl_o24/blob/main/ejercicios/a_statistics.ipynb\">\n",
    "  <img src=\"https://colab.research.google.com/assets/colab-badge.svg\" alt=\"Open In Colab\"/>\n",
    "</a>"
   ]
  },
  {
   "cell_type": "markdown",
   "id": "9430f9f1",
   "metadata": {},
   "source": [
    "Pablo Leon Alazraki Salas\n",
    "\n",
    "204151"
   ]
  },
  {
   "cell_type": "markdown",
   "id": "911686c4",
   "metadata": {},
   "source": [
    "# Guía de Preguntas para Crash Course de Estadística\n",
    "Este cuaderno está diseñado para ayudarte a reflexionar sobre los videos de Crash Course en Estadística. Contesta las preguntas antes y después de ver cada video para mejorar tu comprensión. "
   ]
  },
  {
   "cell_type": "markdown",
   "id": "754cc268",
   "metadata": {},
   "source": [
    "Las preguntas iniciales contestalas antes de ver el video, el objetivo es pensar un poco sobre lo que sabes del tema. No uses LLMs para responder las preguntas sino lo que sabes y lo que aprendiste con el video.  \n",
    "El objetivo es generar intuicion matematica y estadistica que los LLMs no poseen o no es facil obtenerla de ellos."
   ]
  },
  {
   "cell_type": "markdown",
   "id": "02b9ea60",
   "metadata": {},
   "source": [
    "## Medidas de Tendencia Central (Media, Mediana y Moda)"
   ]
  },
  {
   "cell_type": "markdown",
   "id": "815b5d71",
   "metadata": {},
   "source": [
    "### Preguntas Iniciales"
   ]
  },
  {
   "cell_type": "code",
   "execution_count": null,
   "id": "b803e9f1",
   "metadata": {},
   "outputs": [],
   "source": [
    "# ¿Cuáles son las diferentes formas de resumir un conjunto de datos?\n",
    "\"\"\"\n",
    "1. Medidas de tendencia central (media, mediana, moda)\n",
    "2. Medidas de dispersión (rango, varianza, desviación estándar, coeficiente de variación)\n",
    "3. Medidas de posición (cuantiles)\n",
    "4. Medidas de forma (simetría, curtosis)\n",
    "5. Medidas de asociación (covarianza, correlación)\n",
    "\"\"\""
   ]
  },
  {
   "cell_type": "code",
   "execution_count": null,
   "id": "9c4e11f2",
   "metadata": {},
   "outputs": [],
   "source": [
    "# ¿Cómo crees que se diferencian la media, la mediana y la moda entre sí?\n",
    "\"\"\"\n",
    "La media es el valor \"promedio\" de los datos, la mediana es el valor \n",
    "    que se encuentra en el centro de los datos ordenados y la moda es el valor que más se repite en los datos.\n",
    "\"\"\""
   ]
  },
  {
   "cell_type": "code",
   "execution_count": null,
   "id": "5bdedcb6",
   "metadata": {},
   "outputs": [],
   "source": [
    "# ¿Puedes pensar en situaciones en las que la media no sea la mejor medida de tendencia central?\n",
    "\"\"\"\n",
    "La media no es una medida 'robusta' de tendencia central, es decir, es muy sensible a valores extremos, \n",
    "    los cuales pueden 'jalar' la media hacia ellos.\n",
    "\"\"\""
   ]
  },
  {
   "cell_type": "markdown",
   "id": "c7a328e7",
   "metadata": {},
   "source": [
    "### Video\n",
    "<iframe width=\"560\" height=\"315\" src=\"https://www.youtube.com/embed/kn83BA7cRNM\" frameborder=\"0\" allow=\"accelerometer; autoplay; clipboard-write; encrypted-media; gyroscope; picture-in-picture\" allowfullscreen></iframe>\n"
   ]
  },
  {
   "cell_type": "code",
   "execution_count": null,
   "id": "71fe2606",
   "metadata": {},
   "outputs": [],
   "source": [
    "from IPython.display import YouTubeVideo\n",
    "\n",
    "YouTubeVideo('kn83BA7cRNM', width=560, height=315)\n"
   ]
  },
  {
   "cell_type": "markdown",
   "id": "395afc24",
   "metadata": {},
   "source": [
    "### Preguntas Finales"
   ]
  },
  {
   "cell_type": "code",
   "execution_count": null,
   "id": "3a630bed",
   "metadata": {},
   "outputs": [],
   "source": [
    "# Define media, mediana y moda. Proporciona un ejemplo de cuándo es más apropiada cada medida.\n",
    "\"\"\"\n",
    "- Media: Suma todos los valores en un data set y divide dicha suma por el numero total de datos.\n",
    "- Mediana: Si ordenaramos los datos de menor a mayor, la media es el valor que se encuentra en el centro.\n",
    "- Moda: El valor que aparece mas veces en un data set.\n",
    "\"\"\""
   ]
  },
  {
   "cell_type": "code",
   "execution_count": null,
   "id": "46b97afe",
   "metadata": {},
   "outputs": [],
   "source": [
    "# ¿Por qué la mediana podría ser una mejor medida de tendencia central que la media en una distribución asimétrica?\n",
    "\"\"\"\n",
    "La media es muy influencibable por valores extremos. Si tenemos una distribucion asimetrica, la media puede ayudarnos \n",
    "    a encontrar donde esta el centro de nuestros datos, ya que no usa el 'valor' de todos los datos.\n",
    "\"\"\"\n"
   ]
  },
  {
   "cell_type": "code",
   "execution_count": null,
   "id": "baff03c4",
   "metadata": {},
   "outputs": [],
   "source": [
    "# ¿Cómo afecta la presencia de valores atípicos (outliers) a la media, la mediana y la moda?\n",
    "\"\"\"\n",
    "- En el caso de la media, los valores atípicos pueden 'jalar' mucho la media hacia ellos.\n",
    "- En el caso de la mediana, los valores atípicos afectan muy poco, ya que, al ordenarlos y encontrar el valor central \n",
    "    (o el promedio de los dos valores centrales), no se ve tan afectada.\n",
    "- En el caso de la moda, no se ve afectada por valores atípicos.\n",
    "\"\"\"\n"
   ]
  },
  {
   "cell_type": "markdown",
   "id": "fc967072",
   "metadata": {},
   "source": [
    "## Medidas de Dispersión (Rango, Varianza y Desviación Estándar)"
   ]
  },
  {
   "cell_type": "markdown",
   "id": "99dd1d7c",
   "metadata": {},
   "source": [
    "### Preguntas Iniciales"
   ]
  },
  {
   "cell_type": "code",
   "execution_count": null,
   "id": "41d989a0",
   "metadata": {},
   "outputs": [],
   "source": [
    "# ¿A qué crees que se refiere la 'dispersión' en un conjunto de datos?\n",
    "\"\"\"\n",
    "Qué tan 'lejos' están los datos unos de otros.\n",
    "\"\"\""
   ]
  },
  {
   "cell_type": "code",
   "execution_count": null,
   "id": "412d1805",
   "metadata": {},
   "outputs": [],
   "source": [
    "# ¿Cómo podría la dispersión de los datos afectar las conclusiones que extraemos de ellos?\n",
    "\"\"\"\n",
    "Si los datos son muy dispersos, podria ser dificil hacer generalizaciones sobre ellos.\n",
    "\"\"\""
   ]
  },
  {
   "cell_type": "code",
   "execution_count": null,
   "id": "a2c2d6e2",
   "metadata": {},
   "outputs": [],
   "source": [
    "# ¿Cuáles son algunas medidas potenciales para describir cuán dispersos están los datos?\n",
    "\"\"\"\n",
    "Varianza, Desviacion Estándar y Rango.\n",
    "\"\"\""
   ]
  },
  {
   "cell_type": "markdown",
   "id": "92ec46f4",
   "metadata": {},
   "source": [
    "### Video\n",
    "<iframe width=\"560\" height=\"315\" src=\"https://www.youtube.com/embed/R4yfNi_8Kqw\" frameborder=\"0\" allow=\"accelerometer; autoplay; clipboard-write; encrypted-media; gyroscope; picture-in-picture\" allowfullscreen></iframe>\n"
   ]
  },
  {
   "cell_type": "code",
   "execution_count": null,
   "id": "1dd45beb",
   "metadata": {},
   "outputs": [],
   "source": [
    "from IPython.display import YouTubeVideo\n",
    "\n",
    "YouTubeVideo('R4yfNi_8Kqw', width=560, height=315)\n"
   ]
  },
  {
   "cell_type": "markdown",
   "id": "dee15816",
   "metadata": {},
   "source": [
    "### Preguntas Finales"
   ]
  },
  {
   "cell_type": "code",
   "execution_count": null,
   "id": "b9fc541b",
   "metadata": {},
   "outputs": [],
   "source": [
    "# Explica los conceptos de rango, varianza y desviación estándar. ¿Cómo se calculan?\n",
    "\"\"\"\n",
    "- Rango: Diferencia entre el valor mas grande de un data set y el valor mas pequeño para darnos la distancia entre esos dos extremos.\n",
    "- Varianza: Suma de las distancias de los datasets a la media elevadas al cuadrado, dividido por el numero de datos.\n",
    "- Desviación Estándar: Cantidad promedio en la que los datos podrían desviarse de la media.\n",
    "\"\"\""
   ]
  },
  {
   "cell_type": "code",
   "execution_count": null,
   "id": "8a50acf8",
   "metadata": {},
   "outputs": [],
   "source": [
    "# ¿Por qué es la desviación estándar una medida de dispersión más útil que el rango?\n",
    "\"\"\"\n",
    "Porque el rango solo utiliza dos puntos de todo el dataset, mientras que la desviación estándar toma en cuenta todos los datos,\n",
    "    lo cual nos da mas información.\n",
    "\"\"\""
   ]
  },
  {
   "cell_type": "code",
   "execution_count": null,
   "id": "51d12060",
   "metadata": {},
   "outputs": [],
   "source": [
    "# ¿Cómo pueden dos conjuntos de datos diferentes tener la misma media pero diferentes niveles de dispersión?\n",
    "\"\"\"\n",
    "Tomemos como ejemplo dos datasets:\n",
    "- Dataset 1: [1, 2, 3, 4, 5]\n",
    "- Dataset 2: [1, 1, 1, 2, 3, 10]\n",
    "La media de ambos datasets es 3, pero el dataset 2 tiene un mayor rango, es decir, tienen medidas de dispersion diferentes.\n",
    "    No solo influye el tamaño de la muestra, sino los valores que toman.\n",
    "\"\"\""
   ]
  },
  {
   "cell_type": "markdown",
   "id": "0661d9fa",
   "metadata": {},
   "source": [
    "## Visualización de Datos Parte 1 (Los Gráficos Son Como la Pasta)"
   ]
  },
  {
   "cell_type": "markdown",
   "id": "40772553",
   "metadata": {},
   "source": [
    "### Preguntas Iniciales"
   ]
  },
  {
   "cell_type": "code",
   "execution_count": null,
   "id": "5984cdad",
   "metadata": {},
   "outputs": [],
   "source": [
    "# ¿Cuáles son algunos tipos comunes de gráficos utilizados para visualizar datos?\n",
    "\"\"\"\n",
    "Lineas, barras y puntos.\n",
    "\"\"\""
   ]
  },
  {
   "cell_type": "code",
   "execution_count": null,
   "id": "a3985f86",
   "metadata": {},
   "outputs": [],
   "source": [
    "# ¿Cómo decides qué tipo de gráfico usar para un conjunto de datos específico?\n",
    "\"\"\"\n",
    "Depende siempre de tu tipo de datos. \n",
    "- Si representan magnitudes de categorias definidas (una variable categorica), es recomendable una grafica de barras\n",
    "- Si lo importante es representar tendencias (y no importan tanto las magnitudes), una grafica de lineas\n",
    "- Si todas tus variables son cuantitativas, una grafica de puntos\n",
    "\n",
    "\"\"\""
   ]
  },
  {
   "cell_type": "code",
   "execution_count": null,
   "id": "a7839274",
   "metadata": {},
   "outputs": [],
   "source": [
    "# ¿Qué hace que un gráfico sea bueno o malo?\n",
    "\"\"\"\n",
    "- Que sea claro\n",
    "- Que sea fácil de interpretar\n",
    "- Que no requiera mucho esfuerzo para entenderlo\n",
    "- Que sea minimalista (no utilizar mas elementos visuales de los necesarios)\n",
    "\"\"\""
   ]
  },
  {
   "cell_type": "markdown",
   "id": "4120bec5",
   "metadata": {},
   "source": [
    "### Video\n",
    "<iframe width=\"560\" height=\"315\" src=\"https://www.youtube.com/embed/hEWY6kkBdpo\" frameborder=\"0\" allow=\"accelerometer; autoplay; clipboard-write; encrypted-media; gyroscope; picture-in-picture\" allowfullscreen></iframe>\n"
   ]
  },
  {
   "cell_type": "code",
   "execution_count": null,
   "id": "611b00ea",
   "metadata": {},
   "outputs": [],
   "source": [
    "from IPython.display import YouTubeVideo\n",
    "\n",
    "# First video\n",
    "YouTubeVideo('hEWY6kkBdpo', width=560, height=315)\n",
    "\n"
   ]
  },
  {
   "cell_type": "markdown",
   "id": "f4f8674d",
   "metadata": {},
   "source": [
    "### Preguntas Finales"
   ]
  },
  {
   "cell_type": "code",
   "execution_count": null,
   "id": "863f1738",
   "metadata": {},
   "outputs": [],
   "source": [
    "# Describe las diferencias clave entre gráficos de barras, gráficos circulares y histogramas.\n",
    "\"\"\"\n",
    "- Los graficos de barras son buenos para mostrar frecuencias en variables categoricas.\n",
    "- Los graficos circulares muestran frecuencias relativas, igualmente de variables categoricas.\n",
    "- Los histogramas son graficos de barras pero para variables cuantitativas. Las barras deben estar contiguas para \n",
    "    representar una continuidad en las variables. Un histograma tambien puede darnos informacion sobre la forma de la distribucion.\n",
    "\"\"\""
   ]
  },
  {
   "cell_type": "code",
   "execution_count": null,
   "id": "204678fb",
   "metadata": {},
   "outputs": [],
   "source": [
    "# ¿Por qué es importante elegir el tipo correcto de gráfico para tus datos?\n",
    "\"\"\"\n",
    "Para no solo facilitar su comprension, sino para no caer en errores de interpretacion.\n",
    "\"\"\""
   ]
  },
  {
   "cell_type": "code",
   "execution_count": null,
   "id": "1e3f5e69",
   "metadata": {},
   "outputs": [],
   "source": [
    "# ¿Cuáles son algunos errores a evitar al crear gráficos para representar datos?\n",
    "\"\"\"\n",
    "- Cualquier cosa que implique una manipulacion de los datos, como elegir rangos convenientemente para 'maquillar' informacion.\n",
    "- Dependiendo del tipo de grafica, no iniciar tus ejes en cero.\n",
    "\"\"\""
   ]
  },
  {
   "cell_type": "markdown",
   "id": "db060f0f",
   "metadata": {},
   "source": [
    "## Visualización de Datos Parte 2 (Gráficos, Valores Atípicos y Justin Timberlake)"
   ]
  },
  {
   "cell_type": "markdown",
   "id": "3742aeea",
   "metadata": {},
   "source": [
    "### Preguntas Iniciales"
   ]
  },
  {
   "cell_type": "code",
   "execution_count": null,
   "id": "e895f7e2",
   "metadata": {},
   "outputs": [],
   "source": [
    "# ¿A qué crees que se refiere un 'valor atípico' en un conjunto de datos?\n",
    "\"\"\"\n",
    "Datos que sean muy poco probables segun la tendencia general de los datos.\n",
    "\"\"\""
   ]
  },
  {
   "cell_type": "code",
   "execution_count": null,
   "id": "349f36da",
   "metadata": {},
   "outputs": [],
   "source": [
    "# ¿Cómo podrían los valores atípicos afectar el análisis general de los datos?\n",
    "\"\"\"\n",
    "Podrian sesgar medidas de tendencia central y dispersión.\n",
    "\"\"\""
   ]
  },
  {
   "cell_type": "code",
   "execution_count": null,
   "id": "786f9cd9",
   "metadata": {},
   "outputs": [],
   "source": [
    "# ¿Cuáles son algunas formas de visualizar datos cuando hay posibles valores atípicos?\n",
    "\"\"\"\n",
    "Incluir una nota en la visualización que indique que hay valores atípicos, ignorarlos o eliminarlos (si hay una buena justificación sobre\n",
    "    por qué se eliminan), hacer dos visualizaciones, una con y otra sin valores atípicos.\n",
    "\"\"\""
   ]
  },
  {
   "cell_type": "markdown",
   "id": "71f41905",
   "metadata": {},
   "source": [
    "### Video\n",
    "<iframe width=\"560\" height=\"315\" src=\"https://www.youtube.com/embed/HMkllhBI91Y\" frameborder=\"0\" allow=\"accelerometer; autoplay; clipboard-write; encrypted-media; gyroscope; picture-in-picture\" allowfullscreen></iframe>\n"
   ]
  },
  {
   "cell_type": "code",
   "execution_count": null,
   "id": "5760e270",
   "metadata": {},
   "outputs": [],
   "source": [
    "from IPython.display import YouTubeVideo\n",
    "\n",
    "\n",
    "# Second video\n",
    "YouTubeVideo('HMkllhBI91Y', width=560, height=315)\n",
    "\n",
    "\n"
   ]
  },
  {
   "cell_type": "markdown",
   "id": "71f2e060",
   "metadata": {},
   "source": [
    "### Preguntas Finales"
   ]
  },
  {
   "cell_type": "code",
   "execution_count": null,
   "id": "43cf2434",
   "metadata": {},
   "outputs": [],
   "source": [
    "# Explica cómo se pueden identificar los valores atípicos usando visualizaciones como gráficos de caja (box plots).\n",
    "\"\"\"\n",
    "En el caso de los box plots, los valores atípicos podrian ser aquellos afuera de los 'fences' (distancia intercuartilica * 1.5).\n",
    "\"\"\""
   ]
  },
  {
   "cell_type": "code",
   "execution_count": null,
   "id": "317be617",
   "metadata": {},
   "outputs": [],
   "source": [
    "# ¿Cómo deberías tratar los valores atípicos en tu análisis de datos?\n",
    "\"\"\"\n",
    "No hay solamente un criterio para tratar los valores atípicos. Una forma de determinar si es importante dejarlo o no es considerar\n",
    "    qué tan representativo podria ser ese dato para la muestra, o si es importante considerar los valores extremos para el análisis\n",
    "    que estemos realizando.\n",
    "\"\"\""
   ]
  },
  {
   "cell_type": "code",
   "execution_count": null,
   "id": "7cc30ef0",
   "metadata": {},
   "outputs": [],
   "source": [
    "# ¿Qué papel juegan los gráficos de dispersión (scatter plots) en la identificación de relaciones entre variables?\n",
    "\"\"\"\n",
    "Podrian ayudarnos a ver visualmente si hay indicios de correlacion entre variables. Puede acompañarse de lineas de tendencia, \n",
    "    siempre que los datos si tengan una correlacion real.\n",
    "\"\"\""
   ]
  },
  {
   "cell_type": "markdown",
   "id": "38abed74",
   "metadata": {},
   "source": [
    "## Distribuciones (La Forma de los Datos)"
   ]
  },
  {
   "cell_type": "markdown",
   "id": "ffc3f8dc",
   "metadata": {},
   "source": [
    "### Preguntas Iniciales"
   ]
  },
  {
   "cell_type": "code",
   "execution_count": null,
   "id": "c7628c22",
   "metadata": {},
   "outputs": [],
   "source": [
    "# ¿Qué te viene a la mente cuando escuchas el término 'distribución' en el contexto de datos?\n",
    "\"\"\"\n",
    "Pienso en distribuciones de variables aleatorias y en muestras aleatorias. Los datos graficados representan una muestra observada,\n",
    "    que normalmente provienen de una variable aleatoria que desconocemos, pero queremos estimar.\n",
    "\"\"\""
   ]
  },
  {
   "cell_type": "code",
   "execution_count": null,
   "id": "1eb3fc1c",
   "metadata": {},
   "outputs": [],
   "source": [
    "# ¿Cómo crees que la forma de una distribución de datos podría afectar el análisis de los datos?\n",
    "\"\"\"\n",
    "Dependiendo de la forma en la que se distribuyan los datos, es posible que ciertas medidas estadisticas\n",
    "    sean mas apropiadas que otras (por ejemplo, si la distribucion no es simetrica, la mediana podria dar mas informacion que la media).\n",
    "\"\"\""
   ]
  },
  {
   "cell_type": "code",
   "execution_count": null,
   "id": "a401fdaa",
   "metadata": {},
   "outputs": [],
   "source": [
    "# ¿Puedes nombrar diferentes tipos de distribuciones de datos?\n",
    "\"\"\"\n",
    "Poisson, Bernoulli, Binomial, Geometrica, Binomial Negativa, Hipergeometrica, \n",
    "    Uniforme, Exponencial, Normal, Gamma, Beta, Cauchy, F, T, Ji-Cuadrada.\n",
    "\"\"\""
   ]
  },
  {
   "cell_type": "markdown",
   "id": "7049735b",
   "metadata": {},
   "source": [
    "### Video\n",
    "<iframe width=\"560\" height=\"315\" src=\"https://www.youtube.com/embed/bPFNxD3Yg6U\" frameborder=\"0\" allow=\"accelerometer; autoplay; clipboard-write; encrypted-media; gyroscope; picture-in-picture\" allowfullscreen></iframe>\n"
   ]
  },
  {
   "cell_type": "code",
   "execution_count": null,
   "id": "2d272e73",
   "metadata": {},
   "outputs": [],
   "source": [
    "from IPython.display import YouTubeVideo\n",
    "# Third video\n",
    "YouTubeVideo('bPFNxD3Yg6U', width=560, height=315)\n"
   ]
  },
  {
   "cell_type": "markdown",
   "id": "d44c9b82",
   "metadata": {},
   "source": [
    "### Preguntas Finales"
   ]
  },
  {
   "cell_type": "code",
   "execution_count": null,
   "id": "0e9b7c70",
   "metadata": {},
   "outputs": [],
   "source": [
    "# Describe las características clave de una distribución normal. ¿Por qué es importante?\n",
    "\"\"\"\n",
    "- La media, la mediana y la moda toman el mismo valor, es decir, es simetrica\n",
    "- Es unimodal (solo tiene un pico)\n",
    "\"\"\""
   ]
  },
  {
   "cell_type": "code",
   "execution_count": null,
   "id": "4849410f",
   "metadata": {},
   "outputs": [],
   "source": [
    "# ¿Qué es una distribución asimétrica y cómo se diferencia de una distribución normal?\n",
    "\"\"\"\n",
    "En una distribucion asimetrica, la media, la mediana y la moda no toman el mismo valor.\n",
    "Una distribucion asimetrica presenta sesgos, es decir, la 'cola' de la distribucion se inclina hacia un lado. Entre mayor sesgo, \n",
    "    hay mayor rango y mayor desviacion estandar.\n",
    "\"\"\""
   ]
  },
  {
   "cell_type": "code",
   "execution_count": null,
   "id": "781eb557",
   "metadata": {},
   "outputs": [],
   "source": [
    "# ¿Cómo puede ayudar el entender la distribución de datos en hacer predicciones o decisiones?\n",
    "\"\"\"\n",
    "Nos puede ayudar a preveer situaciones que podrian pasar y que tan probable es que ocurran. Dependiendo de la aplicacion,\n",
    "    podria ser mas o menos importante preveer ciertos escenarios, sean extremos o no. Por ejemplo, que un restaurante \n",
    "    no se quede sin ingredientes, o que un hospital no se quede sin camas.\n",
    "\"\"\""
   ]
  }
 ],
 "metadata": {
  "kernelspec": {
   "display_name": ".venv",
   "language": "python",
   "name": "python3"
  },
  "language_info": {
   "codemirror_mode": {
    "name": "ipython",
    "version": 3
   },
   "file_extension": ".py",
   "mimetype": "text/x-python",
   "name": "python",
   "nbconvert_exporter": "python",
   "pygments_lexer": "ipython3",
   "version": "3.12.0"
  }
 },
 "nbformat": 4,
 "nbformat_minor": 5
}
