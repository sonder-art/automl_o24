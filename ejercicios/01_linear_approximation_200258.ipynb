{
  "cells": [
    {
      "cell_type": "markdown",
      "metadata": {
        "id": "o5coLruEsK_1",
        "vscode": {
          "languageId": "plaintext"
        }
      },
      "source": [
        "# What is a Linear Approximation"
      ]
    },
    {
      "cell_type": "markdown",
      "metadata": {},
      "source": [
        "Aranza Ibarra Camarena \n",
        "\n",
        "\n",
        "CU: 200258 "
      ]
    },
    {
      "cell_type": "markdown",
      "metadata": {
        "id": "eMUcUvVZsK_4"
      },
      "source": [
        "# Questions to Answer"
      ]
    },
    {
      "cell_type": "markdown",
      "metadata": {
        "id": "vwtWV0p2sK_4",
        "vscode": {
          "languageId": "plaintext"
        }
      },
      "source": [
        "1. What is Interpolation?  \n",
        "\n",
        "2. What is Extrapolation?  \n",
        "\n",
        "3. What is the Difference between them?\n",
        "\n",
        "3. What is Linear-Regression?  \n",
        "\n",
        "4. What is the Stone-Weistrass theorem?"
      ]
    },
    {
      "cell_type": "markdown",
      "metadata": {
        "id": "v7waCqjcsK_5",
        "vscode": {
          "languageId": "plaintext"
        }
      },
      "source": [
        "## Answers"
      ]
    },
    {
      "cell_type": "markdown",
      "metadata": {
        "id": "T_wVSvoQsK_5"
      },
      "source": [
        "1) Whats Interpolation? \n",
        "\n",
        "Answer: Es tomar un punto que está entre la información que ya tenemos. Es un poco más certero. \"Intra\" es interno. Basicmanete es un conectra los puntos de todos los valores, pero debe pasar los puntos de los datos. \n",
        "\n",
        "2) Whats Extrapolation? \n",
        "\n",
        "Answer: Es tomar un punto de información fuera de la información que ya tenemos. \"Extra\" es externo.\n",
        "\n",
        "3) Whats is the Difference Between them? \n",
        "\n",
        "Answer: Donde se encuentra el punto que estamos tratando de \"sacar la información\". Uno es dentro de los datos que ya conocemos y el otro es por fuera de los datos que ya conocemos. \n",
        "\n",
        "4) Whats Linear Regression? \n",
        "\n",
        "Answer: Los datos pueden ser explicados por un modelos + un error (desviación del modelo).  Ahora, las regresiones lineares son procesos analíticos para poder generar predicciones con una fórmula matemática y pueden ser afectados por los 'outlayers'. En las regresiones lineares se asume que lo que se dibujará será una línea. La línea de regresión es aquella línea que está más cerca de todos los datos (puntos) como sea posible.\n",
        "\n",
        "5) What is the Stone- Weistrass theorem? (Se la pregunté a perplexity y a Chat GPT)\n",
        "\n",
        "Answer: El teorema de Stone-Weierstrass es un resultado en matemáticas que te dice que si tienes una función continua en un intervalo (por ejemplo, una curva suave en un gráfico), puedes aproximar esa función con polinomios. \n",
        "\n",
        "Imagina que tienes una curva complicada, como el perfil de una montaña. Este teorema dice que puedes encontrar una serie de polinomios (es decir, expresiones matemáticas que solo involucran sumas, restas, multiplicaciones y potencias de x) que se acerquen tanto como quieras a esa curva. No importa lo complicada que sea la curva, siempre existe un polinomio que se parece mucho.\n",
        "\n",
        "Esto es importante porque los polinomios son mucho más simples de manejar que las funciones complicadas, así que poder aproximar cualquier función continua con polinomios es una herramienta muy poderosa en matemáticas. Sobre todo, nos sirve cuando queremos hacer una regresión y queremos ver qué curva o qué forma se acerca más a nuestros datos (puntos). "
      ]
    },
    {
      "cell_type": "markdown",
      "metadata": {},
      "source": []
    }
  ],
  "metadata": {
    "colab": {
      "provenance": []
    },
    "language_info": {
      "name": "python"
    }
  },
  "nbformat": 4,
  "nbformat_minor": 0
}
