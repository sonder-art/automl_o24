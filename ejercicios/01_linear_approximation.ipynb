{
 "cells": [
  {
   "cell_type": "markdown",
   "metadata": {},
   "source": [
    "<a target=\"_blank\" href=\"https://colab.research.google.com/github/sonder-art/automl_o24/blob/main/ejercicios/01_linear_approximation.ipynb\">\n",
    "  <img src=\"https://colab.research.google.com/assets/colab-badge.svg\" alt=\"Open In Colab\"/>\n",
    "</a>"
   ]
  },
  {
   "cell_type": "markdown",
   "metadata": {
    "vscode": {
     "languageId": "plaintext"
    }
   },
   "source": [
    "# What is a Linear Approximation"
   ]
  },
  {
   "cell_type": "markdown",
   "metadata": {
    "vscode": {
     "languageId": "plaintext"
    }
   },
   "source": [
    "[![Watch the video](https://img.youtube.com/vi/c4_MJg_c49k/0.jpg)](https://www.youtube.com/watch?v=c4_MJg_c49k)\n"
   ]
  },
  {
   "cell_type": "markdown",
   "metadata": {
    "vscode": {
     "languageId": "plaintext"
    }
   },
   "source": [
    "[![Watch the video](https://img.youtube.com/vi/Xj129kA3Ci0/0.jpg)](https://www.youtube.com/watch?v=Xj129kA3Ci0)\n"
   ]
  },
  {
   "cell_type": "markdown",
   "metadata": {},
   "source": [
    "[![Watch the video](https://img.youtube.com/vi/WWqE7YHR4Jc/0.jpg)](https://www.youtube.com/watch?v=WWqE7YHR4Jc)\n"
   ]
  },
  {
   "cell_type": "markdown",
   "metadata": {},
   "source": [
    "# Questions to Answer"
   ]
  },
  {
   "cell_type": "markdown",
   "metadata": {
    "vscode": {
     "languageId": "plaintext"
    }
   },
   "source": [
    "1. What is Interpolation?  \n",
    "\n",
    "2. What is Extrapolation?  \n",
    " \n",
    "3. What is the Difference between them?\n",
    "\n",
    "4. What is Linear-Regression?  \n",
    "\n",
    "5. What is the Stone-Weistrass theorem?"
   ]
  },
  {
   "cell_type": "markdown",
   "metadata": {
    "vscode": {
     "languageId": "plaintext"
    }
   },
   "source": [
    "## Answers"
   ]
  },
  {
   "cell_type": "markdown",
   "metadata": {},
   "source": [
    "1. Interpolation is the method of ESTIMATING unknown data points that theoretically can be found between our discrete distribution of the set of known data points. \n",
    "\n",
    "2. On the other hand, extrapolation is the method of ESTIMATING unknown data points that cannot be found in the known distribution of our set of data points. I understand it like trying to get an outlier.\n",
    "\n",
    "3. Interpolation and extrapolation differ in various points such as how enough is our set of known data points: while in interpolation our known universe is sufficient, with extrapolation we could need to expand our set of known data points. Also, with interpolation there is a bigger degree of certainty than with extrapolation on how correct is our estimation.\n",
    "\n",
    "4. Linear-Regression is a type of linear model that fits the data points by estimating the linear relation between them. The method it generally employs is the sum of squared distances.\n",
    "\n",
    "5. It is a mathematical result that states that any given function defined in a space can always be approximated by polynomial functions. This space has to satisfy compactness (every collection of sets that covers the space contains a finite collection of subsets that covers the space) and Hausdorfness (every distinct points in the space can be separated by disjoint sets of the space). "
   ]
  },
  {
   "cell_type": "markdown",
   "metadata": {},
   "source": []
  }
 ],
 "metadata": {
  "language_info": {
   "name": "python"
  }
 },
 "nbformat": 4,
 "nbformat_minor": 2
}
