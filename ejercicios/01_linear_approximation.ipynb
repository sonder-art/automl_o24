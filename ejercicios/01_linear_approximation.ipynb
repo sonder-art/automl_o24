{
 "cells": [
  {
   "cell_type": "markdown",
   "metadata": {},
   "source": [
    "C.U.: 204151\n",
    "\n",
    "Alumno: Pablo Leon Alazraki Salas"
   ]
  },
  {
   "cell_type": "markdown",
   "metadata": {},
   "source": [
    "<a target=\"_blank\" href=\"https://colab.research.google.com/github/sonder-art/automl_o24/blob/main/ejercicios/01_linear_approximation.ipynb\">\n",
    "  <img src=\"https://colab.research.google.com/assets/colab-badge.svg\" alt=\"Open In Colab\"/>\n",
    "</a>"
   ]
  },
  {
   "cell_type": "markdown",
   "metadata": {
    "vscode": {
     "languageId": "plaintext"
    }
   },
   "source": [
    "# What is a Linear Approximation"
   ]
  },
  {
   "cell_type": "markdown",
   "metadata": {
    "vscode": {
     "languageId": "plaintext"
    }
   },
   "source": [
    "[![Watch the video](https://img.youtube.com/vi/c4_MJg_c49k/0.jpg)](https://www.youtube.com/watch?v=c4_MJg_c49k)\n"
   ]
  },
  {
   "cell_type": "markdown",
   "metadata": {
    "vscode": {
     "languageId": "plaintext"
    }
   },
   "source": [
    "[![Watch the video](https://img.youtube.com/vi/Xj129kA3Ci0/0.jpg)](https://www.youtube.com/watch?v=Xj129kA3Ci0)\n"
   ]
  },
  {
   "cell_type": "markdown",
   "metadata": {},
   "source": [
    "[![Watch the video](https://img.youtube.com/vi/WWqE7YHR4Jc/0.jpg)](https://www.youtube.com/watch?v=WWqE7YHR4Jc)\n"
   ]
  },
  {
   "cell_type": "markdown",
   "metadata": {},
   "source": [
    "# Questions to Answer"
   ]
  },
  {
   "cell_type": "markdown",
   "metadata": {
    "vscode": {
     "languageId": "plaintext"
    }
   },
   "source": [
    "1. What is Interpolation?  \n",
    "\n",
    "2. What is Extrapolation?  \n",
    "\n",
    "3. What is the Difference between them?\n",
    "\n",
    "3. What is Linear-Regression?  \n",
    "\n",
    "4. What is the Stone-Weistrass theorem?"
   ]
  },
  {
   "cell_type": "markdown",
   "metadata": {
    "vscode": {
     "languageId": "plaintext"
    }
   },
   "source": [
    "## Answers"
   ]
  },
  {
   "cell_type": "markdown",
   "metadata": {},
   "source": [
    "1. Utiliza datos conocidos para estimar el valor de un dato intermedio\n",
    "2. Estimar un valor fuera del rango de los datos conocidos\n",
    "3. La interpolacion se aplica dentro del rango de los datos observados, mientras que la extrapolacion se utiliza para estimar valores mas alla de ese rango\n",
    "4. Una curva que minimiza la suma de las distancias al cuadrado de los puntos a la curva. Esto hace que la curva se aproxime lo mas posible a los datos\n",
    "5. Cualquier funcion diferenciable es aproximable uniformemente por una funcion polinomica alrededor de un punto"
   ]
  }
 ],
 "metadata": {
  "language_info": {
   "name": "python"
  }
 },
 "nbformat": 4,
 "nbformat_minor": 2
}
